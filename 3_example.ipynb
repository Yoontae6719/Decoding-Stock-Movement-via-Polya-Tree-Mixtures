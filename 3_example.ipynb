{
 "cells": [
  {
   "cell_type": "code",
   "execution_count": 1,
   "id": "b4972038-bf42-4858-a671-1a81534bd171",
   "metadata": {},
   "outputs": [],
   "source": [
    "import os\n",
    "import torch\n",
    "import numpy as np\n",
    "import random\n",
    "\n",
    "from torch.utils.data import DataLoader\n",
    "from utils.inference_and_explain import Dataset_SNP_XAI, inference_and_explain\n",
    "from exp.exp_main import Exp_Main\n",
    "from models.treeMoE import Model"
   ]
  },
  {
   "cell_type": "raw",
   "id": "a28a02ec-23f0-4b8a-98fe-d3786178e4e1",
   "metadata": {},
   "source": [
    "[I 2025-02-15 15:37:07,539] Trial 41 finished with value: 0.11450271480483175 and parameters: {'alpha': 1.5111484713762007, 'beta': 0.11752065509786823, 'max_depth': 1, 'use_gating_mlp': 1, 'gating_mlp_hidden': 8, 'hidden_dim_expert': 64, 'initial_temp': 1.0, 'final_temp': 0.2, 'anneal_epochs': 5, 'schedule_type': 'linear', 'learning_rate': 0.003}. Best is trial 41 with value: 0.11450271480483175."
   ]
  },
  {
   "cell_type": "markdown",
   "id": "f2935136-d0d0-4ff6-aec9-b1d1154d1342",
   "metadata": {},
   "source": [
    "### Step 1. env settings"
   ]
  },
  {
   "cell_type": "code",
   "execution_count": 2,
   "id": "4a968260-f3e5-488e-bd91-cb9cafce7441",
   "metadata": {},
   "outputs": [
    {
     "name": "stdout",
     "output_type": "stream",
     "text": [
      "[INFO] Using device: cuda\n"
     ]
    }
   ],
   "source": [
    "device = torch.device(\"cuda\" if torch.cuda.is_available() else \"cpu\")\n",
    "print(\"[INFO] Using device:\", device)\n",
    "\n",
    "fix_seed = 2025\n",
    "random.seed(fix_seed)\n",
    "np.random.seed(fix_seed)\n",
    "torch.manual_seed(fix_seed)\n",
    "\n",
    "class Args:\n",
    "    def __init__(self):\n",
    "        self.device = device\n",
    "        self.dim_input = 437\n",
    "        self.num_classes = 2\n",
    "        # Here\n",
    "        self.max_depth = 2\n",
    "        self.hidden_dim_expert = 16\n",
    "        self.alpha_fs = 0.6568998058780943\n",
    "        self.beta_fs = 0.2523567583654948\n",
    "        self.use_gating_mlp = 1\n",
    "        self.gating_mlp_hidden = 16\n",
    "        self.initial_temp = 1.0\n",
    "        self.final_temp = 0.2\n",
    "        self.anneal_epochs = 20\n",
    "        self.learning_rate = 0.003\n",
    "\n",
    "args = Args()"
   ]
  },
  {
   "cell_type": "markdown",
   "id": "d17b27ba-866c-44e9-ae1b-7d5e7af4d230",
   "metadata": {},
   "source": [
    "### Step2. Get load model & Data loader (Function)"
   ]
  },
  {
   "cell_type": "code",
   "execution_count": 3,
   "id": "0d6e9b5d-9551-43b6-81a9-d3ee129dd108",
   "metadata": {},
   "outputs": [],
   "source": [
    "def load_model(checkpoint_path):\n",
    "    model = Model(args).to(device)\n",
    "    if os.path.exists(checkpoint_path):\n",
    "        state_dict = torch.load(checkpoint_path, map_location=device)\n",
    "        model.load_state_dict(state_dict)\n",
    "        print(f\"[INFO] Model loaded from {checkpoint_path}\")\n",
    "    else:\n",
    "        print(f\"[WARNING] checkpoint not found at {checkpoint_path}; using untrained model.\")\n",
    "    return model"
   ]
  },
  {
   "cell_type": "code",
   "execution_count": 4,
   "id": "0d22c7be-6342-4763-bada-5d716dcc6ab8",
   "metadata": {},
   "outputs": [],
   "source": [
    "def prepare_test_loader(stop_loss, stock_name):\n",
    "    test_dataset = Dataset_SNP_XAI(\n",
    "        args=args,\n",
    "        root_path='./dataset',  \n",
    "        data_path='FULL.csv',    \n",
    "        flag='test',\n",
    "        scale=True,\n",
    "        stop_loss=stop_loss,\n",
    "        stock_name=stock_name\n",
    "    )\n",
    "    test_loader = DataLoader(test_dataset, batch_size=64, shuffle=False)\n",
    "    print(f\"[INFO] Test set size: {len(test_dataset)}\")\n",
    "    return test_loader\n"
   ]
  },
  {
   "cell_type": "code",
   "execution_count": null,
   "id": "a482f5e0-7684-490d-a9d8-d6209f9b4a65",
   "metadata": {},
   "outputs": [],
   "source": []
  },
  {
   "cell_type": "code",
   "execution_count": 5,
   "id": "faca4423-a2b5-4e78-9520-017180a64961",
   "metadata": {},
   "outputs": [
    {
     "name": "stdout",
     "output_type": "stream",
     "text": [
      "[INFO] Model loaded from ./checkpoints/treeMoE_FULL_md2_hde16_al6_be2_mlpTrue_Exp_0/checkpoint.pth\n",
      "[INFO] Test set size: 279\n"
     ]
    }
   ],
   "source": [
    "model = load_model(checkpoint_path=\"./checkpoints/treeMoE_FULL_md2_hde16_al6_be2_mlpTrue_Exp_0/checkpoint.pth\")\n",
    "test_loader_0 = prepare_test_loader(stop_loss = 0 , stock_name = \"AAPL\")\n",
    "#test_loader_2 = prepare_test_loader(stop_loss = 2 , stock_name = \"AAPL\")\n",
    "#test_loader_3 = prepare_test_loader(stop_loss = 3 , stock_name = \"AAPL\")\n",
    "#test_loader_4 = prepare_test_loader(stop_loss = 4 , stock_name = \"AAPL\")\n",
    "#test_loader_5 = prepare_test_loader(stop_loss = 5 , stock_name = \"AAPL\")"
   ]
  },
  {
   "cell_type": "code",
   "execution_count": 10,
   "id": "e442479b-a672-4f01-a347-1c898350551c",
   "metadata": {
    "scrolled": true
   },
   "outputs": [
    {
     "name": "stdout",
     "output_type": "stream",
     "text": [
      "\n",
      "===== Test Accuracy (soft gating) = 0.5556 =====\n",
      "\n",
      "[Confusion Matrix (soft)]\n",
      "[[ 33  91]\n",
      " [ 33 122]]\n",
      "\n",
      "[Classification Report]\n",
      "              precision    recall  f1-score   support\n",
      "\n",
      "           0     0.5000    0.2661    0.3474       124\n",
      "           1     0.5728    0.7871    0.6630       155\n",
      "\n",
      "    accuracy                         0.5556       279\n",
      "   macro avg     0.5364    0.5266    0.5052       279\n",
      "weighted avg     0.5404    0.5556    0.5227       279\n",
      "\n",
      "MCC: 0.0622\n",
      "\n",
      "=== Node-level Routing Statistics (Soft Gating) ===\n",
      "[Node] root | coverage=279.000 | label0=124.000, label1=155.000\n",
      "[Node] root_L | coverage=82.580 | label0=37.658, label1=44.922\n",
      "[Leaf] root_L_L | coverage=13.335 | label0=5.652, label1=7.683, acc=0.5700, mcc=0.0563\n",
      "[Leaf] root_L_R | coverage=69.245 | label0=32.005, label1=37.240, acc=0.5319, mcc=0.0458\n",
      "[Node] root_R | coverage=196.420 | label0=86.342, label1=110.078\n",
      "[Leaf] root_R_L | coverage=76.075 | label0=32.225, label1=43.849, acc=0.5664, mcc=0.0754\n",
      "[Leaf] root_R_R | coverage=120.345 | label0=54.117, label1=66.228, acc=0.5548, mcc=0.0743\n",
      "\n",
      "=== Leaf Feature Selection (Top/Bottom K by phi log-odds) ===\n",
      "\n",
      "[Leaf = root_L_L]\n",
      " - Top Features:\n",
      "   StoK_2 => score=2.538\n",
      "   WR_3 => score=2.467\n",
      "   WR_2 => score=2.235\n",
      "   ROC_24 => score=2.202\n",
      "   CloseStd_2 => score=2.102\n",
      " - Bottom Features:\n",
      "   Volume_EMA_3 => score=-3.005\n",
      "   BBup_3 => score=-2.972\n",
      "   Volume_EMA_23 => score=-2.627\n",
      "   StoD_27 => score=-2.553\n",
      "   BBup_15 => score=-2.547\n",
      "\n",
      "[Leaf = root_L_R]\n",
      " - Top Features:\n",
      "   ROC_10 => score=3.222\n",
      "   ROC_9 => score=3.084\n",
      "   ROC_8 => score=3.007\n",
      "   ROC_23 => score=2.964\n",
      "   ROC_27 => score=2.925\n",
      " - Bottom Features:\n",
      "   BBup_2 => score=-3.527\n",
      "   EMA_19 => score=-3.411\n",
      "   SMA_15 => score=-3.395\n",
      "   SMA_27 => score=-3.374\n",
      "   BBdn_12 => score=-3.367\n",
      "\n",
      "[Leaf = root_R_L]\n",
      " - Top Features:\n",
      "   ROC_17 => score=2.993\n",
      "   ROC_26 => score=2.705\n",
      "   RSI_27 => score=2.605\n",
      "   RSI_3 => score=2.587\n",
      "   ROC_10 => score=2.555\n",
      " - Bottom Features:\n",
      "   SMA_27 => score=-3.422\n",
      "   BBmid_12 => score=-3.397\n",
      "   EMA_21 => score=-3.184\n",
      "   BBdn_30 => score=-3.157\n",
      "   EMA_20 => score=-3.121\n",
      "\n",
      "[Leaf = root_R_R]\n",
      " - Top Features:\n",
      "   ROC_9 => score=2.143\n",
      "   RSI_2 => score=1.857\n",
      "   RSI_13 => score=1.711\n",
      "   ROC_17 => score=1.639\n",
      "   CCI_3 => score=1.636\n",
      " - Bottom Features:\n",
      "   CCI_13 => score=-2.849\n",
      "   WR_15 => score=-2.802\n",
      "   Volume_SMA_5 => score=-2.802\n",
      "   Volume_SMA_21 => score=-2.696\n",
      "   Volume_EMA_13 => score=-2.667\n",
      "\n",
      "=== Leaf Coverage (phi_only) ===\n",
      "   root_L_L => coverage=0.0478\n",
      "   root_L_R => coverage=0.2482\n",
      "   root_R_L => coverage=0.2727\n",
      "   root_R_R => coverage=0.4313\n",
      "\n",
      "=== Global Importance by (coverage * phi) (Top 5, Bottom 5) ===\n",
      "[Top Features]\n",
      "   ROC_9 => 0.898810\n",
      "   RSI_2 => 0.887865\n",
      "   StoD_2 => 0.874792\n",
      "   RSI_17 => 0.872661\n",
      "   RSI_13 => 0.871737\n",
      "[Bottom Features]\n",
      "   Volume_EMA_13 => 0.062221\n",
      "   Volume_SMA_11 => 0.072235\n",
      "   BBmid_10 => 0.072609\n",
      "   Volume_SMA_27 => 0.076716\n",
      "   Volume_EMA_14 => 0.077446\n",
      "\n",
      "=== Leaf Coverage (gamma_weight) ===\n",
      "   root_L_L => coverage=0.0478\n",
      "   root_L_R => coverage=0.2482\n",
      "   root_R_L => coverage=0.2727\n",
      "   root_R_R => coverage=0.4313\n",
      "\n",
      "=== Global Influence by (coverage * (avg_gamma x MLP)) (Top 5, Bottom 5) ===\n",
      "[Top Features]\n",
      "   ROC_26 => 2.593282\n",
      "   RSI_26 => 2.376216\n",
      "   RSI_21 => 2.286477\n",
      "   RSI_19 => 2.216394\n",
      "   ROC_17 => 2.183291\n",
      "[Bottom Features]\n",
      "   Volume_SMA_16 => 0.045817\n",
      "   Volume_SMA_11 => 0.046060\n",
      "   Volume_EMA_13 => 0.046857\n",
      "   Volume_EMA_14 => 0.047886\n",
      "   Volume_SMA_5 => 0.052479\n",
      "\n",
      ">>> Inference & Explain Done. (mode=soft, global_importance=both, leaf_influence=gamma_weight)\n"
     ]
    }
   ],
   "source": [
    "acc, mcc, Node_level_routing_stat, Leaf_feature_selection, Global_importance, Leaf_influence = inference_and_explain(\n",
    "    args,\n",
    "    model,\n",
    "    test_loader_0,\n",
    "    gating_mode='soft',          # or 'soft'\n",
    "    temperature=0.1,\n",
    "    top_k_leaf=5,\n",
    "    bottom_k_leaf=5,\n",
    "    global_importance_mode='both',  # 'none'/'phi_only'/'gamma_weight'/'both'\n",
    "    top_k_global=5,\n",
    "    bottom_k_global=5,\n",
    "    leaf_influence_mode='gamma_weight'  # 'none' or 'gamma_weight'\n",
    ")"
   ]
  },
  {
   "cell_type": "code",
   "execution_count": 11,
   "id": "083f8fc7-caf2-425f-b9d9-8fcb569de9c8",
   "metadata": {},
   "outputs": [
    {
     "name": "stdout",
     "output_type": "stream",
     "text": [
      "acc : 0.5555555555555556\n",
      "mcc : 0.062235355197987896\n"
     ]
    }
   ],
   "source": [
    "print(\"acc :\", acc)\n",
    "print(\"mcc :\", mcc)\n"
   ]
  },
  {
   "cell_type": "code",
   "execution_count": 12,
   "id": "c6194eb8-d277-4a4a-bc4a-d34f97f6286a",
   "metadata": {},
   "outputs": [
    {
     "name": "stdout",
     "output_type": "stream",
     "text": [
      "{'node_path': 'root', 'coverage': 279.0, 'coverage_label0': 124.0, 'coverage_label1': 155.0, 'acc_leaf': None, 'mcc_leaf': None, 'is_leaf': False}\n",
      "{'node_path': 'root_L', 'coverage': 82.57977294921875, 'coverage_label0': 37.657535552978516, 'coverage_label1': 44.922237396240234, 'acc_leaf': None, 'mcc_leaf': None, 'is_leaf': False}\n",
      "{'node_path': 'root_L_L', 'coverage': 13.33462905883789, 'coverage_label0': 5.652087688446045, 'coverage_label1': 7.682542324066162, 'acc_leaf': 0.5699782196756269, 'mcc_leaf': 0.05633554408682479, 'is_leaf': True}\n",
      "{'node_path': 'root_L_R', 'coverage': 69.24514770507812, 'coverage_label0': 32.00544738769531, 'coverage_label1': 37.23969650268555, 'acc_leaf': 0.5319451085741977, 'mcc_leaf': 0.04576423537046383, 'is_leaf': True}\n",
      "{'node_path': 'root_R', 'coverage': 196.42022705078125, 'coverage_label0': 86.34246826171875, 'coverage_label1': 110.0777587890625, 'acc_leaf': None, 'mcc_leaf': None, 'is_leaf': False}\n",
      "{'node_path': 'root_R_L', 'coverage': 76.07481384277344, 'coverage_label0': 32.225364685058594, 'coverage_label1': 43.84944534301758, 'acc_leaf': 0.5664031230425789, 'mcc_leaf': 0.07538554701859888, 'is_leaf': True}\n",
      "{'node_path': 'root_R_R', 'coverage': 120.34541320800781, 'coverage_label0': 54.117103576660156, 'coverage_label1': 66.22831726074219, 'acc_leaf': 0.5548035192741181, 'mcc_leaf': 0.07425244041922997, 'is_leaf': True}\n"
     ]
    }
   ],
   "source": [
    "for stat in Node_level_routing_stat:\n",
    "    print(stat)\n"
   ]
  },
  {
   "cell_type": "code",
   "execution_count": 13,
   "id": "0c275a05-d66c-45e3-b41c-c422377898a7",
   "metadata": {},
   "outputs": [
    {
     "name": "stdout",
     "output_type": "stream",
     "text": [
      "{'leaf_path': 'root_L_L', 'top_features': [('StoK_2', 2.538090229034424), ('WR_3', 2.4669647216796875), ('WR_2', 2.235210418701172), ('ROC_24', 2.2015724182128906), ('CloseStd_2', 2.102259874343872)], 'bottom_features': [('Volume_EMA_3', -3.0052690505981445), ('BBup_3', -2.972235918045044), ('Volume_EMA_23', -2.6266863346099854), ('StoD_27', -2.553452730178833), ('BBup_15', -2.546664237976074)]}\n",
      "{'leaf_path': 'root_L_R', 'top_features': [('ROC_10', 3.221736431121826), ('ROC_9', 3.0836308002471924), ('ROC_8', 3.007431983947754), ('ROC_23', 2.963824987411499), ('ROC_27', 2.9246933460235596)], 'bottom_features': [('BBup_2', -3.526888132095337), ('EMA_19', -3.4113845825195312), ('SMA_15', -3.394969940185547), ('SMA_27', -3.3744688034057617), ('BBdn_12', -3.3671507835388184)]}\n",
      "{'leaf_path': 'root_R_L', 'top_features': [('ROC_17', 2.9934256076812744), ('ROC_26', 2.705493688583374), ('RSI_27', 2.6053860187530518), ('RSI_3', 2.5873496532440186), ('ROC_10', 2.5546252727508545)], 'bottom_features': [('SMA_27', -3.4222443103790283), ('BBmid_12', -3.3969452381134033), ('EMA_21', -3.1835250854492188), ('BBdn_30', -3.156543493270874), ('EMA_20', -3.1207313537597656)]}\n",
      "{'leaf_path': 'root_R_R', 'top_features': [('ROC_9', 2.143087148666382), ('RSI_2', 1.8568353652954102), ('RSI_13', 1.7112829685211182), ('ROC_17', 1.639304280281067), ('CCI_3', 1.6359052658081055)], 'bottom_features': [('CCI_13', -2.848508834838867), ('WR_15', -2.8023581504821777), ('Volume_SMA_5', -2.801577091217041), ('Volume_SMA_21', -2.6955103874206543), ('Volume_EMA_13', -2.667387008666992)]}\n"
     ]
    }
   ],
   "source": [
    "# Leaf_feature_selection\n",
    "for leaf_sel in Leaf_feature_selection:\n",
    "    print(leaf_sel)"
   ]
  },
  {
   "cell_type": "code",
   "execution_count": 14,
   "id": "86a57c40-b9a9-4ace-ab07-19e29e8e2574",
   "metadata": {},
   "outputs": [
    {
     "name": "stdout",
     "output_type": "stream",
     "text": [
      "Global_importance keys => ['phi_only', 'gamma_weight']\n",
      "phi_only => coverage: {'root_L_L': 0.047794368118047714, 'root_L_R': 0.2481904923915863, 'root_R_L': 0.27266958355903625, 'root_R_R': 0.43134555220603943}\n",
      "phi_only => importance shape: (437,)\n"
     ]
    }
   ],
   "source": [
    "# Global_importance\n",
    "print(\"Global_importance keys =>\", list(Global_importance.keys()))\n",
    "if 'phi_only' in Global_importance:\n",
    "    imp = Global_importance['phi_only']['importance']\n",
    "    cov = Global_importance['phi_only']['coverage_dict']\n",
    "    print(\"phi_only => coverage:\", cov)\n",
    "    print(\"phi_only => importance shape:\", imp.shape)"
   ]
  },
  {
   "cell_type": "code",
   "execution_count": 15,
   "id": "f885c7c6-552f-4477-82d4-4f48d70e23f9",
   "metadata": {},
   "outputs": [
    {
     "name": "stdout",
     "output_type": "stream",
     "text": [
      "gamma_weight => coverage: {'root_L_L': 0.047794368118047714, 'root_L_R': 0.2481904923915863, 'root_R_L': 0.27266958355903625, 'root_R_R': 0.43134555220603943}\n",
      "gamma_weight => importance shape: (437,)\n"
     ]
    }
   ],
   "source": [
    "\n",
    "if 'gamma_weight' in Global_importance:\n",
    "    imp_g = Global_importance['gamma_weight']['importance']\n",
    "    cov_g = Global_importance['gamma_weight']['coverage_dict']\n",
    "    print(\"gamma_weight => coverage:\", cov_g)\n",
    "    print(\"gamma_weight => importance shape:\", imp_g.shape)"
   ]
  },
  {
   "cell_type": "code",
   "execution_count": null,
   "id": "6212abd4-5a75-48a8-8839-a1e8f0df77c1",
   "metadata": {},
   "outputs": [],
   "source": []
  },
  {
   "cell_type": "code",
   "execution_count": 16,
   "id": "4983d293-48c0-4517-b032-634c8cdd21dd",
   "metadata": {},
   "outputs": [
    {
     "name": "stdout",
     "output_type": "stream",
     "text": [
      "Leaf_influence keys => ['gamma_weight']\n",
      "{'leaf_path': 'root_L_L', 'coverage': 0.04779437280470325, 'top_features': [('CloseStd_2', 1.5669842958450317, 0.8911226391792297, 1.7584384679794312), ('ROC_24', 1.3782854080200195, 0.900390625, 1.530763864517212), ('MACD_Signal', 1.365856409072876, 0.8461136817932129, 1.614270567893982), ('StoK_2', 1.29862380027771, 0.9267693161964417, 1.4012373685836792), ('MACD', 1.218380093574524, 0.8440697193145752, 1.4434590339660645)], 'bottom_features': [('Volume_EMA_3', 0.03131188079714775, 0.04718839377164841, 0.6635504961013794), ('BBup_3', 0.034894563257694244, 0.048696037381887436, 0.7165791392326355), ('Volume_EMA_28', 0.03706947714090347, 0.07471566647291183, 0.49614059925079346), ('Volume_SMA_25', 0.03841418772935867, 0.08139877021312714, 0.47192588448524475), ('SMA_9', 0.04062732309103012, 0.08424815535545349, 0.4822339713573456)]}\n",
      "{'leaf_path': 'root_L_R', 'coverage': 0.24819049356658826, 'top_features': [('RSI_26', 4.348038673400879, 0.9263532161712646, 4.693715572357178), ('RSI_25', 4.020232200622559, 0.9341467618942261, 4.303640842437744), ('ROC_4', 3.8025383949279785, 0.9290133714675903, 4.093093395233154), ('ROC_26', 3.75577449798584, 0.9444897770881653, 3.9765114784240723), ('ROC_8', 3.739501953125, 0.9529087543487549, 3.924302339553833)], 'bottom_features': [('BBup_2', 0.016827991232275963, 0.028556788340210915, 0.5892816185951233), ('Volume_EMA_29', 0.018289774656295776, 0.04357101395726204, 0.4197693169116974), ('EMA_15', 0.01927183009684086, 0.046104174107313156, 0.41800618171691895), ('SMA_20', 0.019553691148757935, 0.04900752753019333, 0.3989936411380768), ('SMA_25', 0.020363958552479744, 0.04377326741814613, 0.46521449089050293)]}\n",
      "{'leaf_path': 'root_R_L', 'coverage': 0.27266958366585464, 'top_features': [('ROC_26', 4.245980739593506, 0.9373500347137451, 4.529770851135254), ('ROC_18', 3.8989756107330322, 0.9087687730789185, 4.290393352508545), ('ROC_24', 3.7307276725769043, 0.9102628231048584, 4.098516941070557), ('RSI_19', 3.6866559982299805, 0.906800389289856, 4.06556510925293), ('RSI_8', 3.500561475753784, 0.9160916209220886, 3.8211915493011475)], 'bottom_features': [('EMA_18', 0.018324919044971466, 0.04273166507482529, 0.42883700132369995), ('StoK_22', 0.021930215880274773, 0.04863930121064186, 0.450874388217926), ('Volume_EMA_3', 0.021962260827422142, 0.06896435469388962, 0.3184581398963928), ('SMA_27', 0.02386114001274109, 0.031607456505298615, 0.7549212574958801), ('Volume_EMA_7', 0.023961037397384644, 0.04418260604143143, 0.5423183441162109)]}\n",
      "{'leaf_path': 'root_R_R', 'coverage': 0.43134556705379146, 'top_features': [('RSI_2', 2.1432178020477295, 0.8649276494979858, 2.4779157638549805), ('ROC_9', 2.1393871307373047, 0.8950210213661194, 2.3903205394744873), ('ROC_5', 1.5773934125900269, 0.7776364088058472, 2.0284459590911865), ('RSI_17', 1.4852547645568848, 0.8344659805297852, 1.7798864841461182), ('CCI_3', 1.482325553894043, 0.8369770050048828, 1.7710469961166382)], 'bottom_features': [('Volume_SMA_16', 0.03355635330080986, 0.08855681866407394, 0.37892454862594604), ('Volume_SMA_21', 0.037342049181461334, 0.06323879957199097, 0.5904926657676697), ('Volume_EMA_13', 0.04186035692691803, 0.0649254247546196, 0.6447452306747437), ('Volume_SMA_5', 0.044570937752723694, 0.05723901093006134, 0.7786811590194702), ('Volume_EMA_27', 0.05355848744511604, 0.07677248865365982, 0.6976260542869568)]}\n"
     ]
    }
   ],
   "source": [
    "# Leaf_influence\n",
    "print(\"Leaf_influence keys =>\", list(Leaf_influence.keys()))\n",
    "if 'gamma_weight' in Leaf_influence:\n",
    "    data_gamma = Leaf_influence['gamma_weight']\n",
    "    # data_gamma[i] = {\"leaf_path\":..., \"coverage\":..., \"top_features\":[], \"bottom_features\":[]}\n",
    "    for lf_inf in data_gamma:\n",
    "        print(lf_inf)"
   ]
  },
  {
   "cell_type": "code",
   "execution_count": null,
   "id": "22bbdf3b-91cf-4499-bcbd-9fbf0472a86c",
   "metadata": {},
   "outputs": [],
   "source": []
  },
  {
   "cell_type": "code",
   "execution_count": null,
   "id": "ddafac15-bc2e-43b9-b272-418e094b6e37",
   "metadata": {},
   "outputs": [],
   "source": []
  },
  {
   "cell_type": "code",
   "execution_count": null,
   "id": "a17f0183-6a95-42ef-af32-2e0d34b94de5",
   "metadata": {},
   "outputs": [],
   "source": []
  },
  {
   "cell_type": "code",
   "execution_count": null,
   "id": "aff58483-57c3-4583-8a54-c2d9627fed9c",
   "metadata": {},
   "outputs": [],
   "source": []
  }
 ],
 "metadata": {
  "kernelspec": {
   "display_name": "Python 3 (ipykernel)",
   "language": "python",
   "name": "python3"
  },
  "language_info": {
   "codemirror_mode": {
    "name": "ipython",
    "version": 3
   },
   "file_extension": ".py",
   "mimetype": "text/x-python",
   "name": "python",
   "nbconvert_exporter": "python",
   "pygments_lexer": "ipython3",
   "version": "3.10.12"
  }
 },
 "nbformat": 4,
 "nbformat_minor": 5
}
