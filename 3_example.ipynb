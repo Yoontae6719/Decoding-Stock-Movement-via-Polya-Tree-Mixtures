{
 "cells": [
  {
   "cell_type": "code",
   "execution_count": 10,
   "id": "b4972038-bf42-4858-a671-1a81534bd171",
   "metadata": {},
   "outputs": [],
   "source": [
    "import os\n",
    "import torch\n",
    "import numpy as np\n",
    "import random\n",
    "\n",
    "from torch.utils.data import DataLoader\n",
    "from utils.inference_and_explain import Dataset_SNP_XAI, inference_and_explain\n",
    "from utils.result_to_df import leaf_selection_to_dataframe, leaf_influence_to_dataframe, global_importance_to_dataframes, node_level_stats_to_dataframe\n",
    "\n",
    "from exp.exp_main import Exp_Main\n",
    "from models.treeMoE import Model"
   ]
  },
  {
   "cell_type": "raw",
   "id": "a28a02ec-23f0-4b8a-98fe-d3786178e4e1",
   "metadata": {},
   "source": [
    "[I 2025-02-15 15:37:07,539] Trial 41 finished with value: 0.11450271480483175 and parameters: {'alpha': 1.5111484713762007, 'beta': 0.11752065509786823, 'max_depth': 1, 'use_gating_mlp': 1, 'gating_mlp_hidden': 8, 'hidden_dim_expert': 64, 'initial_temp': 1.0, 'final_temp': 0.2, 'anneal_epochs': 5, 'schedule_type': 'linear', 'learning_rate': 0.003}. Best is trial 41 with value: 0.11450271480483175.\n",
    "\n",
    "[I 2025-02-15 17:55:25,058] Trial 45 finished with value: 0.12238627268464121 and parameters: {'alpha': 1.2605720600581052, 'beta': 0.20558149414300383, 'max_depth': 1, 'use_gating_mlp': 1, 'gating_mlp_hidden': 8, 'hidden_dim_expert': 64, 'initial_temp': 1.0, 'final_temp': 0.5, 'anneal_epochs': 5, 'schedule_type': 'linear', 'learning_rate': 0.003}. Best is trial 45 with value: 0.12238627268464121."
   ]
  },
  {
   "cell_type": "markdown",
   "id": "f2935136-d0d0-4ff6-aec9-b1d1154d1342",
   "metadata": {},
   "source": [
    "### Step 1. env settings"
   ]
  },
  {
   "cell_type": "code",
   "execution_count": 2,
   "id": "4a968260-f3e5-488e-bd91-cb9cafce7441",
   "metadata": {},
   "outputs": [
    {
     "name": "stdout",
     "output_type": "stream",
     "text": [
      "[INFO] Using device: cuda\n"
     ]
    }
   ],
   "source": [
    "device = torch.device(\"cuda\" if torch.cuda.is_available() else \"cpu\")\n",
    "print(\"[INFO] Using device:\", device)\n",
    "\n",
    "fix_seed = 2025\n",
    "random.seed(fix_seed)\n",
    "np.random.seed(fix_seed)\n",
    "torch.manual_seed(fix_seed)\n",
    "\n",
    "class Args:\n",
    "    def __init__(self):\n",
    "        self.device = device\n",
    "        self.dim_input = 437\n",
    "        self.num_classes = 2\n",
    "        # Here\n",
    "        self.max_depth = 2\n",
    "        self.hidden_dim_expert = 16\n",
    "        self.alpha_fs = 0.6568998058780943\n",
    "        self.beta_fs = 0.2523567583654948\n",
    "        self.use_gating_mlp = 1\n",
    "        self.gating_mlp_hidden = 16\n",
    "        self.initial_temp = 1.0\n",
    "        self.final_temp = 0.2\n",
    "        self.anneal_epochs = 20\n",
    "        self.learning_rate = 0.003\n",
    "\n",
    "args = Args()"
   ]
  },
  {
   "cell_type": "markdown",
   "id": "d17b27ba-866c-44e9-ae1b-7d5e7af4d230",
   "metadata": {},
   "source": [
    "### Step2. Get load model & Data loader (Function)"
   ]
  },
  {
   "cell_type": "code",
   "execution_count": 3,
   "id": "0d6e9b5d-9551-43b6-81a9-d3ee129dd108",
   "metadata": {},
   "outputs": [],
   "source": [
    "def load_model(checkpoint_path):\n",
    "    model = Model(args).to(device)\n",
    "    if os.path.exists(checkpoint_path):\n",
    "        state_dict = torch.load(checkpoint_path, map_location=device)\n",
    "        model.load_state_dict(state_dict)\n",
    "        print(f\"[INFO] Model loaded from {checkpoint_path}\")\n",
    "    else:\n",
    "        print(f\"[WARNING] checkpoint not found at {checkpoint_path}; using untrained model.\")\n",
    "    return model"
   ]
  },
  {
   "cell_type": "code",
   "execution_count": 4,
   "id": "0d22c7be-6342-4763-bada-5d716dcc6ab8",
   "metadata": {},
   "outputs": [],
   "source": [
    "def prepare_test_loader(stop_loss, stock_name):\n",
    "    test_dataset = Dataset_SNP_XAI(\n",
    "        args=args,\n",
    "        root_path='./dataset',  \n",
    "        data_path='FULL.csv',    \n",
    "        flag='test',\n",
    "        scale=True,\n",
    "        stop_loss=stop_loss,\n",
    "        stock_name=stock_name\n",
    "    )\n",
    "    test_loader = DataLoader(test_dataset, batch_size=64, shuffle=False)\n",
    "    print(f\"[INFO] Test set size: {len(test_dataset)}\")\n",
    "    return test_loader\n"
   ]
  },
  {
   "cell_type": "code",
   "execution_count": null,
   "id": "a482f5e0-7684-490d-a9d8-d6209f9b4a65",
   "metadata": {},
   "outputs": [],
   "source": []
  },
  {
   "cell_type": "code",
   "execution_count": 5,
   "id": "faca4423-a2b5-4e78-9520-017180a64961",
   "metadata": {},
   "outputs": [
    {
     "name": "stdout",
     "output_type": "stream",
     "text": [
      "[INFO] Model loaded from ./checkpoints/treeMoE_FULL_md2_hde16_al6_be2_mlpTrue_Exp_0/checkpoint.pth\n",
      "[INFO] Test set size: 279\n"
     ]
    }
   ],
   "source": [
    "model = load_model(checkpoint_path=\"./checkpoints/treeMoE_FULL_md2_hde16_al6_be2_mlpTrue_Exp_0/checkpoint.pth\")\n",
    "test_loader_0 = prepare_test_loader(stop_loss = 0 , stock_name = \"AAPL\")\n",
    "#test_loader_2 = prepare_test_loader(stop_loss = 2 , stock_name = \"AAPL\")\n",
    "#test_loader_3 = prepare_test_loader(stop_loss = 3 , stock_name = \"AAPL\")\n",
    "#test_loader_4 = prepare_test_loader(stop_loss = 4 , stock_name = \"AAPL\")\n",
    "#test_loader_5 = prepare_test_loader(stop_loss = 5 , stock_name = \"AAPL\")"
   ]
  },
  {
   "cell_type": "code",
   "execution_count": 6,
   "id": "e442479b-a672-4f01-a347-1c898350551c",
   "metadata": {
    "scrolled": true
   },
   "outputs": [
    {
     "name": "stdout",
     "output_type": "stream",
     "text": [
      "\n",
      "===== Test Accuracy (soft gating) = 0.5556 =====\n",
      "\n",
      "[Confusion Matrix (soft)]\n",
      "[[ 33  91]\n",
      " [ 33 122]]\n",
      "\n",
      "[Classification Report]\n",
      "              precision    recall  f1-score   support\n",
      "\n",
      "           0     0.5000    0.2661    0.3474       124\n",
      "           1     0.5728    0.7871    0.6630       155\n",
      "\n",
      "    accuracy                         0.5556       279\n",
      "   macro avg     0.5364    0.5266    0.5052       279\n",
      "weighted avg     0.5404    0.5556    0.5227       279\n",
      "\n",
      "MCC: 0.0622\n",
      "\n",
      "=== Node-level Routing Statistics (Soft Gating) ===\n",
      "[Node] root | coverage=279.000 | label0=124.000, label1=155.000\n",
      "[Node] root_L | coverage=82.580 | label0=37.658, label1=44.922\n",
      "[Leaf] root_L_L | coverage=13.335 | label0=5.652, label1=7.683, acc=0.5700, mcc=0.0563\n",
      "[Leaf] root_L_R | coverage=69.245 | label0=32.005, label1=37.240, acc=0.5319, mcc=0.0458\n",
      "[Node] root_R | coverage=196.420 | label0=86.342, label1=110.078\n",
      "[Leaf] root_R_L | coverage=76.075 | label0=32.225, label1=43.849, acc=0.5664, mcc=0.0754\n",
      "[Leaf] root_R_R | coverage=120.345 | label0=54.117, label1=66.228, acc=0.5548, mcc=0.0743\n",
      "\n",
      "=== Leaf Feature Selection (Top/Bottom K by phi log-odds) ===\n",
      "\n",
      "[Leaf = root_L_L]\n",
      " - Top Features:\n",
      "   StoK_2 => score=2.538\n",
      "   WR_3 => score=2.467\n",
      "   WR_2 => score=2.235\n",
      "   ROC_24 => score=2.202\n",
      "   CloseStd_2 => score=2.102\n",
      " - Bottom Features:\n",
      "   Volume_EMA_3 => score=-3.005\n",
      "   BBup_3 => score=-2.972\n",
      "   Volume_EMA_23 => score=-2.627\n",
      "   StoD_27 => score=-2.553\n",
      "   BBup_15 => score=-2.547\n",
      "\n",
      "[Leaf = root_L_R]\n",
      " - Top Features:\n",
      "   ROC_10 => score=3.222\n",
      "   ROC_9 => score=3.084\n",
      "   ROC_8 => score=3.007\n",
      "   ROC_23 => score=2.964\n",
      "   ROC_27 => score=2.925\n",
      " - Bottom Features:\n",
      "   BBup_2 => score=-3.527\n",
      "   EMA_19 => score=-3.411\n",
      "   SMA_15 => score=-3.395\n",
      "   SMA_27 => score=-3.374\n",
      "   BBdn_12 => score=-3.367\n",
      "\n",
      "[Leaf = root_R_L]\n",
      " - Top Features:\n",
      "   ROC_17 => score=2.993\n",
      "   ROC_26 => score=2.705\n",
      "   RSI_27 => score=2.605\n",
      "   RSI_3 => score=2.587\n",
      "   ROC_10 => score=2.555\n",
      " - Bottom Features:\n",
      "   SMA_27 => score=-3.422\n",
      "   BBmid_12 => score=-3.397\n",
      "   EMA_21 => score=-3.184\n",
      "   BBdn_30 => score=-3.157\n",
      "   EMA_20 => score=-3.121\n",
      "\n",
      "[Leaf = root_R_R]\n",
      " - Top Features:\n",
      "   ROC_9 => score=2.143\n",
      "   RSI_2 => score=1.857\n",
      "   RSI_13 => score=1.711\n",
      "   ROC_17 => score=1.639\n",
      "   CCI_3 => score=1.636\n",
      " - Bottom Features:\n",
      "   CCI_13 => score=-2.849\n",
      "   WR_15 => score=-2.802\n",
      "   Volume_SMA_5 => score=-2.802\n",
      "   Volume_SMA_21 => score=-2.696\n",
      "   Volume_EMA_13 => score=-2.667\n",
      "\n",
      "=== Leaf Coverage (phi_only) ===\n",
      "   root_L_L => coverage=0.0478\n",
      "   root_L_R => coverage=0.2482\n",
      "   root_R_L => coverage=0.2727\n",
      "   root_R_R => coverage=0.4313\n",
      "\n",
      "=== Global Importance by (coverage * phi) (Top 5, Bottom 5) ===\n",
      "[Top Features]\n",
      "   ROC_9 => 0.898810\n",
      "   RSI_2 => 0.887865\n",
      "   StoD_2 => 0.874792\n",
      "   RSI_17 => 0.872661\n",
      "   RSI_13 => 0.871737\n",
      "[Bottom Features]\n",
      "   Volume_EMA_13 => 0.062221\n",
      "   Volume_SMA_11 => 0.072235\n",
      "   BBmid_10 => 0.072609\n",
      "   Volume_SMA_27 => 0.076716\n",
      "   Volume_EMA_14 => 0.077446\n",
      "\n",
      "=== Leaf Coverage (gamma_weight) ===\n",
      "   root_L_L => coverage=0.0478\n",
      "   root_L_R => coverage=0.2482\n",
      "   root_R_L => coverage=0.2727\n",
      "   root_R_R => coverage=0.4313\n",
      "\n",
      "=== Global Influence by (coverage * (avg_gamma x MLP)) (Top 5, Bottom 5) ===\n",
      "[Top Features]\n",
      "   ROC_26 => 2.593282\n",
      "   RSI_26 => 2.376216\n",
      "   RSI_21 => 2.286477\n",
      "   RSI_19 => 2.216394\n",
      "   ROC_17 => 2.183291\n",
      "[Bottom Features]\n",
      "   Volume_SMA_16 => 0.045817\n",
      "   Volume_SMA_11 => 0.046060\n",
      "   Volume_EMA_13 => 0.046857\n",
      "   Volume_EMA_14 => 0.047886\n",
      "   Volume_SMA_5 => 0.052479\n",
      "\n",
      ">>> Inference & Explain Done. (mode=soft, global_importance=both, leaf_influence=gamma_weight)\n"
     ]
    }
   ],
   "source": [
    "acc, mcc, Node_level_routing_stat, Leaf_feature_selection, Global_importance, Leaf_influence = inference_and_explain(\n",
    "    args,\n",
    "    model,\n",
    "    test_loader_0,\n",
    "    gating_mode='soft',          # or 'soft'\n",
    "    temperature=0.1,\n",
    "    top_k_leaf=5,\n",
    "    bottom_k_leaf=5,\n",
    "    global_importance_mode='both',  # 'none'/'phi_only'/'gamma_weight'/'both'\n",
    "    top_k_global=5,\n",
    "    bottom_k_global=5,\n",
    "    leaf_influence_mode='gamma_weight'  # 'none' or 'gamma_weight'\n",
    ")"
   ]
  },
  {
   "cell_type": "code",
   "execution_count": 7,
   "id": "083f8fc7-caf2-425f-b9d9-8fcb569de9c8",
   "metadata": {},
   "outputs": [
    {
     "name": "stdout",
     "output_type": "stream",
     "text": [
      "acc : 0.5555555555555556\n",
      "mcc : 0.062235355197987896\n"
     ]
    }
   ],
   "source": [
    "print(\"acc :\", acc)\n",
    "print(\"mcc :\", mcc)"
   ]
  },
  {
   "cell_type": "raw",
   "id": "5202e70d-e051-4d25-b077-d5a0b94892f6",
   "metadata": {},
   "source": [
    "visualize_node_level_stats(\n",
    "    node_level_stats=Node_level_routing_stat,\n",
    "    figsize=(12,8),\n",
    "    show_plot=True,\n",
    "    save_path=\"AAPL.png\"\n",
    ")"
   ]
  },
  {
   "cell_type": "code",
   "execution_count": 8,
   "id": "707fe0e9-3323-49f6-8578-e5fcabca4b5e",
   "metadata": {},
   "outputs": [],
   "source": [
    "if 'gamma_weight' in Leaf_influence:\n",
    "    data_gamma = Leaf_influence['gamma_weight']"
   ]
  },
  {
   "cell_type": "code",
   "execution_count": 11,
   "id": "c6194eb8-d277-4a4a-bc4a-d34f97f6286a",
   "metadata": {},
   "outputs": [],
   "source": [
    "node = node_level_stats_to_dataframe(Node_level_routing_stat)\n",
    "df_leaves = leaf_selection_to_dataframe(Leaf_feature_selection)\n",
    "df_cov, df_imp = global_importance_to_dataframes(Global_importance, feature_names=None)\n",
    "df_leaf_infl = leaf_influence_to_dataframe(data_gamma)"
   ]
  },
  {
   "cell_type": "code",
   "execution_count": 16,
   "id": "aff58483-57c3-4583-8a54-c2d9627fed9c",
   "metadata": {},
   "outputs": [],
   "source": [
    "import pandas as pd\n",
    "df = pd.read_csv(\"./dataset/FULL.csv\")"
   ]
  },
  {
   "cell_type": "code",
   "execution_count": 26,
   "id": "522a9d4e-bdfb-4999-b24e-27ab418f13e5",
   "metadata": {},
   "outputs": [],
   "source": [
    "pd.DataFrame({\"col\":list(df.head().drop([\"Date\",\"Y\",\"Y_2\",\"Y_3\",\"Y_4\",\"Y_5\",\"Stock\"], axis = 1).columns)}).to_csv(\"./dataset/col.csv\", index = False)"
   ]
  },
  {
   "cell_type": "code",
   "execution_count": 27,
   "id": "9f651861-9330-4253-9948-562c47395e3e",
   "metadata": {},
   "outputs": [],
   "source": [
    "col = pd.read_csv(\"./dataset/col.csv\")"
   ]
  },
  {
   "cell_type": "code",
   "execution_count": null,
   "id": "a84ee7f0-53c3-4cfb-bdf7-a06e48bea582",
   "metadata": {},
   "outputs": [],
   "source": []
  },
  {
   "cell_type": "code",
   "execution_count": 31,
   "id": "f4332c35-58be-4e52-81a9-710bbf62c87d",
   "metadata": {},
   "outputs": [],
   "source": [
    "df_cov, df_imp = global_importance_to_dataframes(Global_importance, feature_names=list(col[\"col\"]))\n"
   ]
  },
  {
   "cell_type": "code",
   "execution_count": 22,
   "id": "e6dcf3f6-5dfe-42ac-90ba-024b2e5067d7",
   "metadata": {},
   "outputs": [
    {
     "data": {
      "text/html": [
       "<div>\n",
       "<style scoped>\n",
       "    .dataframe tbody tr th:only-of-type {\n",
       "        vertical-align: middle;\n",
       "    }\n",
       "\n",
       "    .dataframe tbody tr th {\n",
       "        vertical-align: top;\n",
       "    }\n",
       "\n",
       "    .dataframe thead th {\n",
       "        text-align: right;\n",
       "    }\n",
       "</style>\n",
       "<table border=\"1\" class=\"dataframe\">\n",
       "  <thead>\n",
       "    <tr style=\"text-align: right;\">\n",
       "      <th></th>\n",
       "      <th>type</th>\n",
       "      <th>feature_name</th>\n",
       "      <th>importance</th>\n",
       "    </tr>\n",
       "  </thead>\n",
       "  <tbody>\n",
       "    <tr>\n",
       "      <th>0</th>\n",
       "      <td>phi_only</td>\n",
       "      <td>SMA_2</td>\n",
       "      <td>0.271761</td>\n",
       "    </tr>\n",
       "    <tr>\n",
       "      <th>1</th>\n",
       "      <td>phi_only</td>\n",
       "      <td>EMA_2</td>\n",
       "      <td>0.407247</td>\n",
       "    </tr>\n",
       "    <tr>\n",
       "      <th>2</th>\n",
       "      <td>phi_only</td>\n",
       "      <td>ROC_2</td>\n",
       "      <td>0.729316</td>\n",
       "    </tr>\n",
       "    <tr>\n",
       "      <th>3</th>\n",
       "      <td>phi_only</td>\n",
       "      <td>RSI_2</td>\n",
       "      <td>0.887865</td>\n",
       "    </tr>\n",
       "    <tr>\n",
       "      <th>4</th>\n",
       "      <td>phi_only</td>\n",
       "      <td>WR_2</td>\n",
       "      <td>0.831899</td>\n",
       "    </tr>\n",
       "    <tr>\n",
       "      <th>...</th>\n",
       "      <td>...</td>\n",
       "      <td>...</td>\n",
       "      <td>...</td>\n",
       "    </tr>\n",
       "    <tr>\n",
       "      <th>869</th>\n",
       "      <td>gamma_weight</td>\n",
       "      <td>CloseStd_28</td>\n",
       "      <td>0.479874</td>\n",
       "    </tr>\n",
       "    <tr>\n",
       "      <th>870</th>\n",
       "      <td>gamma_weight</td>\n",
       "      <td>Range_29</td>\n",
       "      <td>0.206074</td>\n",
       "    </tr>\n",
       "    <tr>\n",
       "      <th>871</th>\n",
       "      <td>gamma_weight</td>\n",
       "      <td>CloseStd_29</td>\n",
       "      <td>0.223853</td>\n",
       "    </tr>\n",
       "    <tr>\n",
       "      <th>872</th>\n",
       "      <td>gamma_weight</td>\n",
       "      <td>Range_30</td>\n",
       "      <td>0.701853</td>\n",
       "    </tr>\n",
       "    <tr>\n",
       "      <th>873</th>\n",
       "      <td>gamma_weight</td>\n",
       "      <td>CloseStd_30</td>\n",
       "      <td>0.122057</td>\n",
       "    </tr>\n",
       "  </tbody>\n",
       "</table>\n",
       "<p>874 rows × 3 columns</p>\n",
       "</div>"
      ],
      "text/plain": [
       "             type feature_name  importance\n",
       "0        phi_only        SMA_2    0.271761\n",
       "1        phi_only        EMA_2    0.407247\n",
       "2        phi_only        ROC_2    0.729316\n",
       "3        phi_only        RSI_2    0.887865\n",
       "4        phi_only         WR_2    0.831899\n",
       "..            ...          ...         ...\n",
       "869  gamma_weight  CloseStd_28    0.479874\n",
       "870  gamma_weight     Range_29    0.206074\n",
       "871  gamma_weight  CloseStd_29    0.223853\n",
       "872  gamma_weight     Range_30    0.701853\n",
       "873  gamma_weight  CloseStd_30    0.122057\n",
       "\n",
       "[874 rows x 3 columns]"
      ]
     },
     "execution_count": 22,
     "metadata": {},
     "output_type": "execute_result"
    }
   ],
   "source": [
    "df_imp"
   ]
  },
  {
   "cell_type": "code",
   "execution_count": null,
   "id": "eb314274-96c9-4e5a-86a7-f54a2efbab4d",
   "metadata": {},
   "outputs": [],
   "source": []
  }
 ],
 "metadata": {
  "kernelspec": {
   "display_name": "Python 3 (ipykernel)",
   "language": "python",
   "name": "python3"
  },
  "language_info": {
   "codemirror_mode": {
    "name": "ipython",
    "version": 3
   },
   "file_extension": ".py",
   "mimetype": "text/x-python",
   "name": "python",
   "nbconvert_exporter": "python",
   "pygments_lexer": "ipython3",
   "version": "3.10.12"
  }
 },
 "nbformat": 4,
 "nbformat_minor": 5
}
